{
 "cells": [
  {
   "cell_type": "markdown",
   "id": "reduced-savings",
   "metadata": {},
   "source": [
    "# Задача 1"
   ]
  },
  {
   "cell_type": "code",
   "execution_count": 1,
   "id": "bulgarian-simon",
   "metadata": {},
   "outputs": [],
   "source": [
    "import numpy"
   ]
  },
  {
   "cell_type": "code",
   "execution_count": 2,
   "id": "impossible-conclusion",
   "metadata": {},
   "outputs": [],
   "source": [
    "def matrixgenerate():\n",
    "    n=int(input())\n",
    "    massiv = numpy.random.random_integers(0, 20, size=(n))\n",
    "    massiv=sorted(massiv, reverse=True)\n",
    "    for i, j in enumerate(massiv):\n",
    "        print(\"massiv[\", i, \"]=\", j)\n",
    "    return massiv"
   ]
  },
  {
   "cell_type": "code",
   "execution_count": 3,
   "id": "billion-separate",
   "metadata": {},
   "outputs": [],
   "source": [
    "def perimetr(massiv):\n",
    "    P=0\n",
    "    \n",
    "    for i in range(len(massiv)-2):\n",
    "        if massiv[i]<massiv[i+1]+massiv[i+2]:\n",
    "            return massiv[i]+massiv[i+1]+massiv[i+2]   "
   ]
  },
  {
   "cell_type": "code",
   "execution_count": 4,
   "id": "infectious-wallpaper",
   "metadata": {},
   "outputs": [
    {
     "name": "stdout",
     "output_type": "stream",
     "text": [
      "5\n",
      "massiv[ 0 ]= 20\n",
      "massiv[ 1 ]= 13\n",
      "massiv[ 2 ]= 13\n",
      "massiv[ 3 ]= 3\n",
      "massiv[ 4 ]= 0\n",
      "46\n"
     ]
    },
    {
     "name": "stderr",
     "output_type": "stream",
     "text": [
      "<ipython-input-2-199a445f327c>:3: DeprecationWarning: This function is deprecated. Please call randint(0, 20 + 1) instead\n",
      "  massiv = numpy.random.random_integers(0, 20, size=(n))\n"
     ]
    }
   ],
   "source": [
    "massiv=matrixgenerate()\n",
    "# leng=int(input())\n",
    "# massiv=[0]*leng\n",
    "# for i in range(len(massiv)):\n",
    "#    massiv[i]=int(input())\n",
    "# sorted(massiv)\n",
    "# for i, j in enumerate(massiv):\n",
    "#    print(\"massiv[\", i, \"]=\", j)\n",
    "P=perimetr(massiv)\n",
    "print(P)"
   ]
  },
  {
   "cell_type": "markdown",
   "id": "scheduled-animal",
   "metadata": {},
   "source": [
    "# Задача 2"
   ]
  },
  {
   "cell_type": "code",
   "execution_count": 2,
   "id": "adequate-maine",
   "metadata": {},
   "outputs": [
    {
     "name": "stdout",
     "output_type": "stream",
     "text": [
      " 971 9714 9714\n",
      " 9999911 91\n",
      " 8 6 40 24 10\n"
     ]
    }
   ],
   "source": [
    "def check(a,b):\n",
    "    one=str(a)+str(b)\n",
    "    two=str(b)+str(a)\n",
    "    if int(one)>int(two):\n",
    "        return True\n",
    "    else:\n",
    "        return False\n",
    "    \n",
    "def shell(massline):\n",
    "    length=len(massline)\n",
    "    l=length\n",
    "    while l>0:\n",
    "        for i in range(length-l):\n",
    "            j=i\n",
    "            while j>=0 and check(massline[j+l], massline[j]):\n",
    "                massline[j], massline[j+l]=massline[j+l], massline[j]\n",
    "                j=j-l\n",
    "        l=int(l/2)\n",
    "    strr=\"\"\n",
    "    for i in range(len(massline)):\n",
    "        strr=strr+\" \"+str(massline[i])\n",
    "    return strr\n",
    "\n",
    "mas1=[9714,9714,971]\n",
    "mas2=[9999911,91]\n",
    "mas3=[8,40,24,6,10]\n",
    "print(shell(mas1))\n",
    "print(shell(mas2))\n",
    "print(shell(mas3))"
   ]
  },
  {
   "cell_type": "markdown",
   "id": "understood-bangkok",
   "metadata": {},
   "source": [
    "# Задача 3"
   ]
  },
  {
   "cell_type": "code",
   "execution_count": 5,
   "id": "boxed-drunk",
   "metadata": {},
   "outputs": [],
   "source": [
    "import numpy"
   ]
  },
  {
   "cell_type": "code",
   "execution_count": 34,
   "id": "atomic-dakota",
   "metadata": {},
   "outputs": [
    {
     "name": "stdout",
     "output_type": "stream",
     "text": [
      "Введите m и n:4 4\n",
      "[[ 5 18 16  5]\n",
      " [13 18  2  4]\n",
      " [ 7  6  4 18]\n",
      " [17  4 16  4]]\n",
      "заменяет  4  на  5\n",
      "заменяет  2  на  18\n",
      "заменяет  4  на  16\n",
      "заменяет  6  на  13\n",
      "заменяет  5  на  18\n",
      "заменяет  4  на  5\n",
      "заменяет  4  на  7\n",
      "заменяет  5  на  18\n",
      "\n",
      "\n",
      "[[ 4  2  4  5]\n",
      " [ 6  4 18 16]\n",
      " [ 4 13  5 18]\n",
      " [17  7 16 18]]\n"
     ]
    },
    {
     "name": "stderr",
     "output_type": "stream",
     "text": [
      "<ipython-input-34-a42f3ab7c3c3>:2: DeprecationWarning: This function is deprecated. Please call randint(0, 20 + 1) instead\n",
      "  massiv = numpy.random.random_integers(0, 20, size=(m, n))\n"
     ]
    }
   ],
   "source": [
    "m, n= map(int, input('Введите m и n:').split(' '))\n",
    "massiv = numpy.random.random_integers(0, 20, size=(m, n))\n",
    "print(massiv)\n",
    "for i in range(0,m):\n",
    "    for j in range(0,n):\n",
    "        l=j\n",
    "        k=i\n",
    "        while k<m and l<n:\n",
    "            if massiv[i][j]>massiv[k][l]:\n",
    "                print (\"заменяет \" , massiv[k][l] ,\" на \" , massiv[i][j] )\n",
    "                massiv[i][j], massiv[k][l]=massiv[k][l], massiv[i][j]\n",
    "            k=k+1\n",
    "            l=l+1\n",
    "print(\"\\n\")\n",
    "print(massiv)           "
   ]
  },
  {
   "cell_type": "code",
   "execution_count": null,
   "id": "incorrect-management",
   "metadata": {},
   "outputs": [],
   "source": []
  },
  {
   "cell_type": "code",
   "execution_count": null,
   "id": "abroad-citizenship",
   "metadata": {},
   "outputs": [],
   "source": []
  },
  {
   "cell_type": "code",
   "execution_count": null,
   "id": "immune-questionnaire",
   "metadata": {},
   "outputs": [],
   "source": []
  },
  {
   "cell_type": "code",
   "execution_count": null,
   "id": "shared-sword",
   "metadata": {},
   "outputs": [],
   "source": []
  },
  {
   "cell_type": "code",
   "execution_count": null,
   "id": "african-audio",
   "metadata": {},
   "outputs": [],
   "source": []
  }
 ],
 "metadata": {
  "kernelspec": {
   "display_name": "Python 3",
   "language": "python",
   "name": "python3"
  },
  "language_info": {
   "codemirror_mode": {
    "name": "ipython",
    "version": 3
   },
   "file_extension": ".py",
   "mimetype": "text/x-python",
   "name": "python",
   "nbconvert_exporter": "python",
   "pygments_lexer": "ipython3",
   "version": "3.9.1"
  }
 },
 "nbformat": 4,
 "nbformat_minor": 5
}
