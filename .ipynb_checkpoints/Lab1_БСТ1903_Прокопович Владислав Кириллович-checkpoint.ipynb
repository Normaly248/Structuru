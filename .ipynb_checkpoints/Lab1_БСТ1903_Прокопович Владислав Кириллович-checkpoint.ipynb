{
 "cells": [
  {
   "cell_type": "markdown",
   "id": "alone-jungle",
   "metadata": {},
   "source": [
    "# Лабораторная работа №1\n",
    "## Выполнил студент группы БСТ1903 Прокопович В.К\n",
    "### Задание №1\n",
    "Описание условия задания"
   ]
  },
  {
   "cell_type": "code",
   "execution_count": 14,
   "id": "significant-escape",
   "metadata": {},
   "outputs": [
    {
     "name": "stdout",
     "output_type": "stream",
     "text": [
      "Hello, World!\n"
     ]
    }
   ],
   "source": [
    "print(\"Hello, World!\")"
   ]
  },
  {
   "cell_type": "markdown",
   "id": "sharing-valve",
   "metadata": {},
   "source": [
    "### Задание №2\n",
    "Написать генератор случайных матриц(многомерных), который принимает опциональные параметры m, n, min_limit, max_limit, где m и n указывают размер матрицы, а min_lim и max_lim - минимальное и максимальное значение для генерируемого числа . По умолчанию при отсутствии параметров принимать следующие значения: m = 50 n = 50 min_limit = -250 max_limit = 1000 + (номер своего варианта)"
   ]
  },
  {
   "cell_type": "code",
   "execution_count": 15,
   "id": "environmental-guess",
   "metadata": {},
   "outputs": [],
   "source": [
    "import numpy\n",
    "import time\n",
    "def matrixgenerate():\n",
    "    n=int(input())\n",
    "    m=int(input())\n",
    "    matrixx = numpy.random.random_integers(-250, 1002, size=(n, m))\n",
    "    print(*matrixx)\n",
    "    return matrixx"
   ]
  },
  {
   "cell_type": "markdown",
   "id": "upper-circular",
   "metadata": {},
   "source": [
    "### Задание №3\n",
    "    Реализовать методы сортировки строк числовой матрицы в соответствии с заданием. Оценить время работы каждого алгоритма сортировки и сравнить его со временем стандартной функции сортировки. Испытания проводить на сгенерированных матрицах.\n",
    "\n",
    "\n"
   ]
  },
  {
   "cell_type": "markdown",
   "id": "million-employee",
   "metadata": {},
   "source": [
    "### Необходимые функции для реализации программы"
   ]
  },
  {
   "cell_type": "code",
   "execution_count": 16,
   "id": "black-exposure",
   "metadata": {},
   "outputs": [],
   "source": [
    "def per(matrixx):\n",
    "    n=len(matrixx)\n",
    "    m=len(matrixx[0])\n",
    "    matriza=[0]*(n*m)\n",
    "    x=int(0)\n",
    "    for i in range(0, n):\n",
    "        for j in range(0, m):\n",
    "            matriza[x]=matrixx[i][j]\n",
    "            x=x+1\n",
    "    return matriza\n",
    "\n",
    "def vivod(matrixx, matriza):\n",
    "    n=len(matrixx)\n",
    "    m=len(matrixx[0])\n",
    "    x=int(0)\n",
    "    matrix=[[0] * m for i in range(n)]\n",
    "    for i in range(0, n):\n",
    "        for j in range(0, m):\n",
    "            matrix[i][j]=matriza[x]\n",
    "            x=x+1\n",
    "    return matrix"
   ]
  },
  {
   "cell_type": "markdown",
   "id": "southeast-overall",
   "metadata": {},
   "source": [
    "### Сортировка выбором"
   ]
  },
  {
   "cell_type": "code",
   "execution_count": 17,
   "id": "attached-plaza",
   "metadata": {},
   "outputs": [],
   "source": [
    "def sortviborom(matrixx):\n",
    "    matrline=per(matrixx)\n",
    "    for i in range(0, len(matriza)):\n",
    "        for j in range(i, len(matriza)):\n",
    "            if matriza[i]>matriza[j]:\n",
    "                matriza[i], matriza[j]=matriza[j], matriza[i]     \n",
    "    return vivod(matrixx, matriza)"
   ]
  },
  {
   "cell_type": "markdown",
   "id": "altered-robert",
   "metadata": {},
   "source": [
    "### Сортировка вставкой"
   ]
  },
  {
   "cell_type": "code",
   "execution_count": 18,
   "id": "boring-helicopter",
   "metadata": {},
   "outputs": [],
   "source": [
    "def sortvstavkami(matrixx):\n",
    "    matrline=per(matrixx)\n",
    "    for i in range(1, len(matriza)):\n",
    "        j=i-1\n",
    "        while (j>=0) and (matriza[j]>matriza[j+1]):\n",
    "            matriza[j], matriza[j+1]=matriza[j+1], matriza[j]\n",
    "            j=j-1\n",
    "    return vivod(matrixx, matriza)"
   ]
  },
  {
   "cell_type": "markdown",
   "id": "caroline-quarterly",
   "metadata": {},
   "source": [
    "### Сортировка обменом"
   ]
  },
  {
   "cell_type": "code",
   "execution_count": 19,
   "id": "generous-monitor",
   "metadata": {},
   "outputs": [],
   "source": [
    "def sortobmen(matrixx):\n",
    "    matrline=per(matrixx)\n",
    "    l=len(matrline)\n",
    "    while l>1:\n",
    "        for i in range(l-1):\n",
    "            if matriza[i]>matriza[i+1]:\n",
    "                matriza[i], matriza[i+1]=matriza[i+1], matriza[i]\n",
    "        l=l-1\n",
    "        \n",
    "    return vivod(matrixx, matriza)"
   ]
  },
  {
   "cell_type": "markdown",
   "id": "protected-beijing",
   "metadata": {},
   "source": [
    "### Сортировка Шелла"
   ]
  },
  {
   "cell_type": "code",
   "execution_count": 20,
   "id": "durable-suite",
   "metadata": {},
   "outputs": [],
   "source": [
    "def shellsort(matrixx):\n",
    "    matrline=per(matrixx)\n",
    "    length=len(matriza)\n",
    "    l=length\n",
    "    while l>0:\n",
    "        for i in range(length-l):\n",
    "            j=i\n",
    "            while j>=0 and matriza[j+l]<matriza[j]:\n",
    "                    matriza[j], matriza[j+l]=matriza[j+l], matriza[j]\n",
    "                    j=j-l\n",
    "        l=int(l/2)\n",
    "    return vivod(matrixx, matriza)"
   ]
  },
  {
   "cell_type": "markdown",
   "id": "confirmed-union",
   "metadata": {},
   "source": [
    "### Турнирная сортировка"
   ]
  },
  {
   "cell_type": "code",
   "execution_count": 21,
   "id": "unauthorized-container",
   "metadata": {},
   "outputs": [],
   "source": [
    "def tyrsort(matrixx):\n",
    "    matrline=per(matrixx)\n",
    "    def _tyrsort(matrline):\n",
    "        tree = [None] * 2 * (len(matriza) + len(matriza) % 2)\n",
    "        index = len(tree) - len(matriza) - len(matriza) % 2\n",
    "        for i, v in enumerate(matriza):\n",
    "            tree[index + i] = (i, v)\n",
    "        for j in range(len(matriza)):\n",
    "            n = len(matriza)\n",
    "            index = len(tree) - len(matriza) - len(matriza) % 2\n",
    "            while index > -1:\n",
    "                n = (n + 1) // 2\n",
    "                for i in range(n):\n",
    "                    i = max(index + i * 2, 1)\n",
    "                    if tree[i] != None and tree[i + 1] != None:\n",
    "                        if tree[i][1] < tree[i + 1][1]:\n",
    "                            tree[i // 2] = tree[i]\n",
    "                        else:\n",
    "                            tree[i // 2] = tree[i + 1]\n",
    "                    else:\n",
    "                        tree[i // 2] = tree[i] if tree[i] != None else tree[i + 1]\n",
    "                index -= n\n",
    "\n",
    "            index, x = tree[0]\n",
    "            matriza[j] = x\n",
    "            tree[len(tree) - len(matriza) - len(matriza) % 2 + index] = None\n",
    "    _tyrsort(matriza)\n",
    "    return vivod(matrixx, matriza)"
   ]
  },
  {
   "cell_type": "markdown",
   "id": "gross-pricing",
   "metadata": {},
   "source": [
    "### Быстрая сортировка"
   ]
  },
  {
   "cell_type": "code",
   "execution_count": 22,
   "id": "nonprofit-stone",
   "metadata": {},
   "outputs": [],
   "source": [
    "def qs(matrixx):\n",
    "    matrline=per(matrixx)\n",
    "    def quicksort(matriza, first, last):\n",
    "        i=first\n",
    "        j=last\n",
    "        x=matriza[int((first+last)/2)]\n",
    "        while i<=j:\n",
    "            while matriza[i]<x:\n",
    "                i+=1\n",
    "            while matriza[j]>x:\n",
    "                j-=1\n",
    "            if i<=j:\n",
    "                if matriza[i]>matriza[j]:\n",
    "                    matriza[i], matriza[j]=matriza[j], matriza[i]\n",
    "                i+=1\n",
    "                j-=1\n",
    "        if i<last:\n",
    "            quicksort(matriza, i, last)\n",
    "        if first<j:\n",
    "            quicksort(matriza, first, j)\n",
    "    quicksort(matriza, 0, len(matriza)-1)\n",
    "    return vivod(matrixx, matriza)"
   ]
  },
  {
   "cell_type": "markdown",
   "id": "coral-temperature",
   "metadata": {},
   "source": [
    "### Пирамидальная сортировка"
   ]
  },
  {
   "cell_type": "code",
   "execution_count": 23,
   "id": "compact-oasis",
   "metadata": {},
   "outputs": [],
   "source": [
    "def heapSort(matrixx):\n",
    "    matrline=per(matrixx)\n",
    "    def downHeap(matriza, k, n):\n",
    "        el = matriza[k]\n",
    "        while 2*k+1 < n:\n",
    "            child = 2*k+1\n",
    "            if child+1 < n and matriza[child] < matriza[child+1]:\n",
    "                child += 1\n",
    "            if el >= matriza[child]:\n",
    "                break\n",
    "            matriza[k] = matriza[child]\n",
    "            k = child\n",
    "        matriza[k] = el\n",
    "  \n",
    "    size = len(matriza)\n",
    "    for i in range(size//2-1,-1,-1):\n",
    "        downHeap(matriza, i, size)\n",
    "    for i in range(size-1,0,-1):\n",
    "        temp = matriza[i]\n",
    "        matriza[i] = matriza[0]\n",
    "        matriza[0] = temp\n",
    "        downHeap(matriza, 0, i)\n",
    "    return vivod(matrixx,matriza)"
   ]
  },
  {
   "cell_type": "markdown",
   "id": "directed-specific",
   "metadata": {},
   "source": [
    "### Вывод"
   ]
  },
  {
   "cell_type": "code",
   "execution_count": 24,
   "id": "immediate-separate",
   "metadata": {},
   "outputs": [
    {
     "name": "stdout",
     "output_type": "stream",
     "text": [
      "3\n",
      "4\n",
      "[867  87 659 751] [-87  38   9 -60] [-166 -111  221  277]\n",
      "\n",
      "Время работы обычной сортировки 8.409999998093554e-05 \n",
      "Результат сортировки\n",
      " [-166, -111, -87, -60] [9, 38, 87, 221] [277, 659, 751, 867]\n",
      "\n",
      "Время работы сортировки выбором 5.480000001512053e-05 \n",
      "Результат сортировки\n",
      " [-166, -111, -87, -60] [9, 38, 87, 221] [277, 659, 751, 867]\n",
      "\n",
      "Время работы сортировки вставкой 3.759999998464991e-05 \n",
      "Результат сортировки\n",
      " [-166, -111, -87, -60] [9, 38, 87, 221] [277, 659, 751, 867]\n",
      "\n",
      "Время работы сортировки обменом 4.189999998516214e-05 \n",
      "Результат сортировки\n",
      " [-166, -111, -87, -60] [9, 38, 87, 221] [277, 659, 751, 867]\n",
      "\n",
      "Время работы сортировки Шелла 3.9499999985537215e-05 \n",
      "Результат сортировки\n",
      " [-166, -111, -87, -60] [9, 38, 87, 221] [277, 659, 751, 867]\n",
      "\n",
      "Время работы турнирной сортировки 0.00011589999999728207 \n",
      "Результат сортировки\n",
      " [-166, -111, -87, -60] [9, 38, 87, 221] [277, 659, 751, 867]\n",
      "\n",
      "Время работы быстрой сортировки 4.280000001699591e-05 \n",
      "Результат сортировки\n",
      " [-166, -111, -87, -60] [9, 38, 87, 221] [277, 659, 751, 867]\n",
      "\n",
      "Время работы пирамидальной сортировки 4.839999999717293e-05 \n",
      "Результат сортировки\n",
      " [-166, -111, -87, -60] [9, 38, 87, 221] [277, 659, 751, 867]\n"
     ]
    },
    {
     "name": "stderr",
     "output_type": "stream",
     "text": [
      "<ipython-input-15-eeea6d652fff>:6: DeprecationWarning: This function is deprecated. Please call randint(-250, 1002 + 1) instead\n",
      "  matrixx = numpy.random.random_integers(-250, 1002, size=(n, m))\n"
     ]
    }
   ],
   "source": [
    "matrixx=matrixgenerate()\n",
    "\n",
    "#Стандартная сортировка\n",
    "timerStart = time.perf_counter()\n",
    "matriza=per(matrixx)\n",
    "sorted(matriza)\n",
    "matrixstandart=vivod(matrixx, matriza)\n",
    "timerEnd = time.perf_counter()\n",
    "timer1 = timerEnd - timerStart\n",
    "#\n",
    "\n",
    "#Сортировка выбором\n",
    "timerStart = time.perf_counter()\n",
    "matrix=sortviborom(matrixx)\n",
    "timerEnd = time.perf_counter()\n",
    "timer2 = timerEnd - timerStart\n",
    "#\n",
    "\n",
    "#Сортировка вставками\n",
    "timerStart = time.perf_counter()\n",
    "matrix1=sortvstavkami(matrixx)\n",
    "timerEnd = time.perf_counter()\n",
    "timer3 = timerEnd - timerStart\n",
    "#\n",
    "\n",
    "#Сортировка обменом\n",
    "timerStart = time.perf_counter()\n",
    "matrix2=sortobmen(matrixx)\n",
    "timerEnd = time.perf_counter()\n",
    "timer4 = timerEnd - timerStart\n",
    "#\n",
    "\n",
    "#Сортировка Шелла\n",
    "timerStart = time.perf_counter()\n",
    "matrix3=shellsort(matrixx)\n",
    "timerEnd = time.perf_counter()\n",
    "timer5 = timerEnd - timerStart\n",
    "#\n",
    "\n",
    "#Турнирная сортировка\n",
    "timerStart = time.perf_counter()\n",
    "matrix4=tyrsort(matrixx)\n",
    "timerEnd = time.perf_counter()\n",
    "timer6 = timerEnd - timerStart\n",
    "#\n",
    "\n",
    "#Быстрая сортировка\n",
    "timerStart = time.perf_counter()\n",
    "matrix5=qs(matrixx)\n",
    "timerEnd = time.perf_counter()\n",
    "timer7 = timerEnd - timerStart\n",
    "#\n",
    "\n",
    "#Пирамидальная сортировка\n",
    "timerStart = time.perf_counter()\n",
    "matrix6=heapSort(matrixx)\n",
    "timerEnd = time.perf_counter()\n",
    "timer8 = timerEnd - timerStart\n",
    "#\n",
    "print(\"\\nВремя работы обычной сортировки\", timer1,\"\\nРезультат сортировки\\n\", *matrix)\n",
    "print(\"\\nВремя работы сортировки выбором\", timer2,\"\\nРезультат сортировки\\n\", *matrix)\n",
    "print(\"\\nВремя работы сортировки вставкой\", timer3,\"\\nРезультат сортировки\\n\", *matrix1)\n",
    "print(\"\\nВремя работы сортировки обменом\", timer4,\"\\nРезультат сортировки\\n\", *matrix2)\n",
    "print(\"\\nВремя работы сортировки Шелла\", timer5,\"\\nРезультат сортировки\\n\", *matrix3)\n",
    "print(\"\\nВремя работы турнирной сортировки\", timer6,\"\\nРезультат сортировки\\n\", *matrix4)\n",
    "print(\"\\nВремя работы быстрой сортировки\", timer7,\"\\nРезультат сортировки\\n\", *matrix5)\n",
    "print(\"\\nВремя работы пирамидальной сортировки\", timer8,\"\\nРезультат сортировки\\n\", *matrix6)"
   ]
  },
  {
   "cell_type": "markdown",
   "id": "checked-commission",
   "metadata": {},
   "source": [
    "## Вывод\n",
    "В результате проделанной лабораторной работы мы реализовали генерацию случайной матрицы и изучили методы сортировок матрицы."
   ]
  },
  {
   "cell_type": "code",
   "execution_count": null,
   "id": "outstanding-wedding",
   "metadata": {},
   "outputs": [],
   "source": []
  }
 ],
 "metadata": {
  "kernelspec": {
   "display_name": "Python 3",
   "language": "python",
   "name": "python3"
  },
  "language_info": {
   "codemirror_mode": {
    "name": "ipython",
    "version": 3
   },
   "file_extension": ".py",
   "mimetype": "text/x-python",
   "name": "python",
   "nbconvert_exporter": "python",
   "pygments_lexer": "ipython3",
   "version": "3.9.1"
  }
 },
 "nbformat": 4,
 "nbformat_minor": 5
}
